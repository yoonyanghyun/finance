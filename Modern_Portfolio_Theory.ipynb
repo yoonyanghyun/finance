{
  "nbformat": 4,
  "nbformat_minor": 0,
  "metadata": {
    "colab": {
      "provenance": [],
      "collapsed_sections": [],
      "authorship_tag": "ABX9TyNunQYxOpr5VuVlIsMWh353",
      "include_colab_link": true
    },
    "kernelspec": {
      "name": "python3",
      "display_name": "Python 3"
    },
    "language_info": {
      "name": "python"
    }
  },
  "cells": [
    {
      "cell_type": "markdown",
      "metadata": {
        "id": "view-in-github",
        "colab_type": "text"
      },
      "source": [
        "<a href=\"https://colab.research.google.com/github/yoonyanghyun/finance/blob/main/Modern_Portfolio_Theory.ipynb\" target=\"_parent\"><img src=\"https://colab.research.google.com/assets/colab-badge.svg\" alt=\"Open In Colab\"/></a>"
      ]
    },
    {
      "cell_type": "code",
      "source": [
        "! pip install yfinance"
      ],
      "metadata": {
        "colab": {
          "base_uri": "https://localhost:8080/"
        },
        "id": "ztkpGOwA2saa",
        "outputId": "c4307147-67ff-4149-f3e7-3bb456d353e0"
      },
      "execution_count": 5,
      "outputs": [
        {
          "output_type": "stream",
          "name": "stdout",
          "text": [
            "Looking in indexes: https://pypi.org/simple, https://us-python.pkg.dev/colab-wheels/public/simple/\n",
            "Collecting yfinance\n",
            "  Downloading yfinance-0.1.74-py2.py3-none-any.whl (27 kB)\n",
            "Collecting requests>=2.26\n",
            "  Downloading requests-2.28.1-py3-none-any.whl (62 kB)\n",
            "\u001b[K     |████████████████████████████████| 62 kB 912 kB/s \n",
            "\u001b[?25hRequirement already satisfied: multitasking>=0.0.7 in /usr/local/lib/python3.7/dist-packages (from yfinance) (0.0.11)\n",
            "Requirement already satisfied: lxml>=4.5.1 in /usr/local/lib/python3.7/dist-packages (from yfinance) (4.9.1)\n",
            "Requirement already satisfied: numpy>=1.15 in /usr/local/lib/python3.7/dist-packages (from yfinance) (1.21.6)\n",
            "Requirement already satisfied: pandas>=0.24.0 in /usr/local/lib/python3.7/dist-packages (from yfinance) (1.3.5)\n",
            "Requirement already satisfied: pytz>=2017.3 in /usr/local/lib/python3.7/dist-packages (from pandas>=0.24.0->yfinance) (2022.2.1)\n",
            "Requirement already satisfied: python-dateutil>=2.7.3 in /usr/local/lib/python3.7/dist-packages (from pandas>=0.24.0->yfinance) (2.8.2)\n",
            "Requirement already satisfied: six>=1.5 in /usr/local/lib/python3.7/dist-packages (from python-dateutil>=2.7.3->pandas>=0.24.0->yfinance) (1.15.0)\n",
            "Requirement already satisfied: charset-normalizer<3,>=2 in /usr/local/lib/python3.7/dist-packages (from requests>=2.26->yfinance) (2.1.1)\n",
            "Requirement already satisfied: idna<4,>=2.5 in /usr/local/lib/python3.7/dist-packages (from requests>=2.26->yfinance) (2.10)\n",
            "Requirement already satisfied: urllib3<1.27,>=1.21.1 in /usr/local/lib/python3.7/dist-packages (from requests>=2.26->yfinance) (1.24.3)\n",
            "Requirement already satisfied: certifi>=2017.4.17 in /usr/local/lib/python3.7/dist-packages (from requests>=2.26->yfinance) (2022.6.15)\n",
            "Installing collected packages: requests, yfinance\n",
            "  Attempting uninstall: requests\n",
            "    Found existing installation: requests 2.23.0\n",
            "    Uninstalling requests-2.23.0:\n",
            "      Successfully uninstalled requests-2.23.0\n",
            "Successfully installed requests-2.28.1 yfinance-0.1.74\n"
          ]
        }
      ]
    },
    {
      "cell_type": "code",
      "execution_count": 31,
      "metadata": {
        "id": "efPXUs8xNzjR"
      },
      "outputs": [],
      "source": [
        "# 라이브러리 설정\n",
        "import numpy as np\n",
        "import pandas as pd\n",
        "from scipy.optimize import minimize\n",
        "import matplotlib.pyplot as plt\n",
        "from typing import List, Tuple\n",
        "import yfinance as yf\n",
        "from matplotlib import rcParams\n",
        "rcParams['figure.figsize'] = 12, 9\n",
        "\n",
        "Treasury_Bill_Rate = 3.16 # Aug 31, 2022\n",
        "Trading_Days_Per_Year = 252"
      ]
    },
    {
      "cell_type": "code",
      "source": [
        "! python --version"
      ],
      "metadata": {
        "colab": {
          "base_uri": "https://localhost:8080/"
        },
        "id": "7FteuktFF82f",
        "outputId": "67122f9e-e399-404d-ada8-2f69b8ac8a20"
      },
      "execution_count": 34,
      "outputs": [
        {
          "output_type": "stream",
          "name": "stdout",
          "text": [
            "Python 3.7.13\n"
          ]
        }
      ]
    },
    {
      "cell_type": "code",
      "source": [
        "! pip install typing"
      ],
      "metadata": {
        "colab": {
          "base_uri": "https://localhost:8080/",
          "height": 309
        },
        "id": "sOf81dup7fg9",
        "outputId": "37a5bde0-6979-40c3-848f-fb6e53a37858"
      },
      "execution_count": 8,
      "outputs": [
        {
          "output_type": "stream",
          "name": "stdout",
          "text": [
            "Looking in indexes: https://pypi.org/simple, https://us-python.pkg.dev/colab-wheels/public/simple/\n",
            "Collecting typing\n",
            "  Downloading typing-3.7.4.3.tar.gz (78 kB)\n",
            "\u001b[K     |████████████████████████████████| 78 kB 2.2 MB/s \n",
            "\u001b[?25hBuilding wheels for collected packages: typing\n",
            "  Building wheel for typing (setup.py) ... \u001b[?25l\u001b[?25hdone\n",
            "  Created wheel for typing: filename=typing-3.7.4.3-py3-none-any.whl size=26325 sha256=bff64e123cf0f91484673ba2c78a11737970879fb1a5aa4a0ed43bb06250ca72\n",
            "  Stored in directory: /root/.cache/pip/wheels/35/f3/15/01aa6571f0a72ee6ae7b827c1491c37a1f72d686fd22b43b0e\n",
            "Successfully built typing\n",
            "Installing collected packages: typing\n",
            "Successfully installed typing-3.7.4.3\n"
          ]
        },
        {
          "output_type": "display_data",
          "data": {
            "application/vnd.colab-display-data+json": {
              "pip_warning": {
                "packages": [
                  "typing"
                ]
              }
            }
          },
          "metadata": {}
        }
      ]
    },
    {
      "cell_type": "code",
      "source": [
        "! pip install cache"
      ],
      "metadata": {
        "colab": {
          "base_uri": "https://localhost:8080/"
        },
        "id": "ES6nj03hCH1_",
        "outputId": "6dead96b-fc05-4d70-8feb-228b9ae90aca"
      },
      "execution_count": 32,
      "outputs": [
        {
          "output_type": "stream",
          "name": "stdout",
          "text": [
            "Looking in indexes: https://pypi.org/simple, https://us-python.pkg.dev/colab-wheels/public/simple/\n",
            "Requirement already satisfied: cache in /usr/local/lib/python3.7/dist-packages (1.0.3)\n"
          ]
        }
      ]
    },
    {
      "cell_type": "code",
      "source": [
        "# Needed for type hinting\n",
        "class Asset:\n",
        "  pass\n",
        "\n",
        "\n",
        "def get_log_period_returns(price_history: pd.DataFrame):\n",
        "  close = price_history['Close'].values  \n",
        "  return np.log(close[1:] / close[:-1]).reshape(-1, 1)\n",
        "\n",
        "\n",
        "# daily_price_history has to at least have a column, called 'Close'\n",
        "class Asset:\n",
        "  def __init__(self, name: str, daily_price_history: pd.DataFrame):\n",
        "    self.name = name\n",
        "    self.daily_returns = get_log_period_returns(daily_price_history)\n",
        "    self.expected_daily_return = np.mean(self.daily_returns)\n",
        "  \n",
        "  @property\n",
        "  def expected_return(self):\n",
        "    return Trading_Days_Per_Year * self.expected_daily_return\n",
        "\n",
        "  def __repr__(self):\n",
        "    return f'<Asset name={self.name}, expected return={self.expected_return}>'\n",
        "\n",
        "  @staticmethod\n",
        "  def covariance_matrix(assets: Tuple[Asset]):  # tuple for hashing in the cache\n",
        "    product_expectation = np.zeros((len(assets), len(assets)))\n",
        "    for i in range(len(assets)):\n",
        "      for j in range(len(assets)):\n",
        "        if i == j:\n",
        "          product_expectation[i][j] = np.mean(assets[i].daily_returns * assets[j].daily_returns)\n",
        "        else:\n",
        "          product_expectation[i][j] = np.mean(assets[i].daily_returns @ assets[j].daily_returns.T)\n",
        "    \n",
        "    product_expectation *= (Trading_Days_Per_Year - 1) ** 2\n",
        "\n",
        "    expected_returns = np.array([asset.expected_return for asset in assets]).reshape(-1, 1)\n",
        "    product_of_expectations = expected_returns @ expected_returns.T\n",
        "\n",
        "    return product_expectation - product_of_expectations"
      ],
      "metadata": {
        "id": "bzuy4IZyDycP"
      },
      "execution_count": 35,
      "outputs": []
    },
    {
      "cell_type": "code",
      "source": [
        "def random_weights(weight_count):\n",
        "    weights = np.random.random((weight_count, 1))\n",
        "    weights /= np.sum(weights)\n",
        "    return weights.reshape(-1, 1)\n",
        "\n",
        "\n",
        "class Portfolio:\n",
        "  def __init__(self, assets: Tuple[Asset]):\n",
        "    self.assets = assets\n",
        "    self.asset_expected_returns = np.array([asset.expected_return for asset in assets]).reshape(-1, 1)\n",
        "    self.covariance_matrix = Asset.covariance_matrix(assets)\n",
        "    self.weights = random_weights(len(assets))\n",
        "    \n",
        "  def unsafe_optimize_with_risk_tolerance(self, risk_tolerance: float):\n",
        "    res = minimize(\n",
        "      lambda w: self._variance(w) - risk_tolerance * self._expected_return(w),\n",
        "      random_weights(self.weights.size),\n",
        "      constraints=[\n",
        "        {'type': 'eq', 'fun': lambda w: np.sum(w) - 1.},\n",
        "      ],\n",
        "      bounds=[(0., 1.) for i in range(self.weights.size)]\n",
        "    )\n",
        "\n",
        "    assert res.success, f'Optimization failed: {res.message}'\n",
        "    self.weights = res.x.reshape(-1, 1)\n",
        "  \n",
        "  def optimize_with_risk_tolerance(self, risk_tolerance: float):\n",
        "    assert risk_tolerance >= 0.\n",
        "    return self.unsafe_optimize_with_risk_tolerance(risk_tolerance)\n",
        "  \n",
        "  def optimize_with_expected_return(self, expected_portfolio_return: float):\n",
        "    res = minimize(\n",
        "      lambda w: self._variance(w),\n",
        "      random_weights(self.weights.size),\n",
        "      constraints=[\n",
        "        {'type': 'eq', 'fun': lambda w: np.sum(w) - 1.},\n",
        "        {'type': 'eq', 'fun': lambda w: self._expected_return(w) - expected_portfolio_return},\n",
        "      ],\n",
        "      bounds=[(0., 1.) for i in range(self.weights.size)]\n",
        "    )\n",
        "\n",
        "    assert res.success, f'Optimization failed: {res.message}'\n",
        "    self.weights = res.x.reshape(-1, 1)\n",
        "\n",
        "  def optimize_sharpe_ratio(self):\n",
        "    # Maximize Sharpe ratio = minimize minus Sharpe ratio\n",
        "    res = minimize(\n",
        "      lambda w: -(self._expected_return(w) - Treasury_Bill_Rate / 100) / np.sqrt(self._variance(w)),\n",
        "      random_weights(self.weights.size),\n",
        "      constraints=[\n",
        "        {'type': 'eq', 'fun': lambda w: np.sum(w) - 1.},\n",
        "      ],\n",
        "      bounds=[(0., 1.) for i in range(self.weights.size)]\n",
        "    )\n",
        "\n",
        "    assert res.success, f'Optimization failed: {res.message}'\n",
        "    self.weights = res.x.reshape(-1, 1)\n",
        "\n",
        "  def _expected_return(self, w):\n",
        "    return (self.asset_expected_returns.T @ w.reshape(-1, 1))[0][0]\n",
        "  \n",
        "  def _variance(self, w):\n",
        "    return (w.reshape(-1, 1).T @ self.covariance_matrix @ w.reshape(-1, 1))[0][0]\n",
        "\n",
        "  @property\n",
        "  def expected_return(self):\n",
        "    return self._expected_return(self.weights)\n",
        "  \n",
        "  @property\n",
        "  def variance(self):\n",
        "    return self._variance(self.weights)\n",
        "\n",
        "  def __repr__(self):\n",
        "    return f'<Portfolio assets={[asset.name for asset in self.assets]}, expected return={self.expected_return}, variance={self.variance}>'\n"
      ],
      "metadata": {
        "id": "-CH08HD17ac3"
      },
      "execution_count": 36,
      "outputs": []
    },
    {
      "cell_type": "code",
      "source": [
        "def yf_retrieve_data(tickers: List[str]):\n",
        "  dataframes = []\n",
        "\n",
        "  for ticker_name in tickers:\n",
        "    ticker = yf.Ticker(ticker_name)\n",
        "    history = ticker.history(period='10y')\n",
        "\n",
        "    if history.isnull().any(axis=1).iloc[0]:\n",
        "      history = history.iloc[1:]\n",
        "\n",
        "    assert not history.isnull().any(axis=None), f'history has NaNs in {ticker_name}'\n",
        "    dataframes.append(history)\n",
        "\n",
        "  return dataframes"
      ],
      "metadata": {
        "id": "l8Y3te8pAISH"
      },
      "execution_count": 37,
      "outputs": []
    },
    {
      "cell_type": "code",
      "source": [
        "# Randomized portfolios\n",
        "stocks = ['AAPL', 'AMZN', 'GOOG', 'BRK-B', 'JNJ', 'JPM']\n",
        "daily_dataframes = yf_retrieve_data(stocks)\n",
        "assets = tuple([Asset(name, daily_df) for name, daily_df in zip(stocks, daily_dataframes)])\n",
        "\n",
        "X = []\n",
        "y = []\n",
        "\n",
        "# Drawing random portfolios\n",
        "for i in range(3000):\n",
        "  portfolio = Portfolio(assets)\n",
        "  X.append(np.sqrt(portfolio.variance))\n",
        "  y.append(portfolio.expected_return)\n",
        "\n",
        "plt.scatter(X, y, label='Random portfolios')\n",
        "\n",
        "# Drawing the efficient frontier\n",
        "X = []\n",
        "y = []\n",
        "for rt in np.linspace(-300, 200, 1000):\n",
        "  portfolio.unsafe_optimize_with_risk_tolerance(rt)\n",
        "  X.append(np.sqrt(portfolio.variance))\n",
        "  y.append(portfolio.expected_returns)\n",
        "\n",
        "plt.plot(X, y, 'k', linewidth=3, label='Efficient frontier')\n",
        "\n",
        "# Drawing optimized portfolios\n",
        "portfolio.optimize_with_risk_tolerance(0)\n",
        "plt.plot(np.sqrt(portfolio.variance), portfolio.expected_return, 'm+', markeredgewidth=5, markersize=20, label='optimize_with_risk_tolerance(0)')\n",
        "\n",
        "portfolio.optimize_with_risk_tolerance(20)\n",
        "plt.plot(np.sqrt(portfolio.variance), portfolio.expected_return, 'r+', markeredgewidth=5, markersize=20, label='optimize_with_risk_tolerance(20)')\n",
        "\n",
        "portfolio.optimize_with_expected_return(0.25)\n",
        "plt.plot(np.sqrt(portfolio.variance), portfolio.expected_return, 'g+', markeredgewidth=5, markersize=20, label='optimize_with_expected_return(0.25)')\n",
        "\n",
        "portfolio.optimize_sharpe_ratio()\n",
        "plt.plot(np.sqrt(portfolio.variance), portfolio.expected_return, 'y+', markeredgewidth=5, markersize=20, label='optimize_sharpe_ratio()')\n",
        "\n",
        "plt.xlabel('Portfolio standard deviation')\n",
        "plt.ylabel('Portfolio expected (logarithmic) return')\n",
        "plt.legend(loc='lower right')\n",
        "plt.show()"
      ],
      "metadata": {
        "id": "aUuDRLAbAz58"
      },
      "execution_count": null,
      "outputs": []
    },
    {
      "cell_type": "code",
      "source": [
        "pd.options.display.float_format = \"{:,.5f}\".format\n",
        "\n",
        "portfolio = Portfolio(assets)\n",
        "portfolio.optimize_with_risk_tolerance(0)\n",
        "riskless_weights = portfolio.weights.flatten()\n",
        "\n",
        "portfolio.optimize_with_risk_tolerance(20)\n",
        "weights_risk_tolerance = portfolio.weights.flatten()\n",
        "\n",
        "portfolio.optimize_with_expected_return(0.25)\n",
        "weights_return = portfolio.weights.flatten()\n",
        "\n",
        "portfolio.optimize_sharpe_ratio()\n",
        "weights_sharpe = portfolio.weights.flatten()\n",
        "\n",
        "display(\n",
        "  pd.DataFrame(\n",
        "    list(\n",
        "      zip(\n",
        "        [asset.name for asset in portfolio.assets],\n",
        "        riskless_weights,\n",
        "        weights_risk_tolerance,\n",
        "        weights_return,\n",
        "        weights_sharpe,\n",
        "      )\n",
        "    ),\n",
        "    columns=[\n",
        "      'asset',\n",
        "      'optimize_with_risk_tolerance(0)',\n",
        "      'optimize_with_risk_tolerance(20)',\n",
        "      'optimize_with_expected_return(0.25)',\n",
        "      'optimize_sharpe_ratio()',\n",
        "    ],\n",
        "  )\n",
        ")"
      ],
      "metadata": {
        "id": "X1owxBCEE5P2"
      },
      "execution_count": null,
      "outputs": []
    },
    {
      "cell_type": "code",
      "source": [
        "assets\n",
        "# daily_dataframes"
      ],
      "metadata": {
        "colab": {
          "base_uri": "https://localhost:8080/"
        },
        "id": "yCkXp5yvBEBS",
        "outputId": "02a1d3a3-bcb0-4ed0-e19a-65000183ee8a"
      },
      "execution_count": 25,
      "outputs": [
        {
          "output_type": "execute_result",
          "data": {
            "text/plain": [
              "(<Asset name=AAPL, expected return=0.20097553458333325>,\n",
              " <Asset name=AMZN, expected return=0.22972573312389027>,\n",
              " <Asset name=GOOG, expected return=0.18073523147969528>,\n",
              " <Asset name=BRK-B, expected return=0.11623399519883496>,\n",
              " <Asset name=JNJ, expected return=0.11333549693259379>,\n",
              " <Asset name=JPM, expected return=0.13226444275613675>)"
            ]
          },
          "metadata": {},
          "execution_count": 25
        }
      ]
    },
    {
      "cell_type": "code",
      "source": [],
      "metadata": {
        "id": "LK1AJJoTBGgK"
      },
      "execution_count": null,
      "outputs": []
    }
  ]
}